{
 "cells": [
  {
   "cell_type": "code",
   "execution_count": 4,
   "id": "863d3e4b-5df0-4450-b193-8809c1c2ea6b",
   "metadata": {
    "tags": []
   },
   "outputs": [],
   "source": [
    "# script to draw image date/time over the image itself and make timelapse\n",
    "import subprocess\n",
    "from PIL import Image\n",
    "from PIL import ImageFont\n",
    "from PIL import ImageDraw\n",
    "import os\n",
    " \n",
    "font = ImageFont.truetype(\"/usr/share/fonts/truetype/freefont/FreeSans.ttf\", 72)\n",
    "fontsmall = ImageFont.truetype(\"/usr/share/fonts/truetype/freefont/FreeSans.ttf\", 36)\n",
    "fontcolor = (238,161,6)\n",
    "counter = 0\n",
    "basepath='/home/martin/container/autofs/data/gopro/20230417/'\n",
    "\n",
    "# Go through each file in current directory\n",
    "for i in os.listdir(os.getcwd()):\n",
    "    if i.endswith(\".JPG\"):\n",
    "        print(i)\n",
    "        break\n",
    "#        counter += 1\n",
    "#        print(\"Image {0}: {1}\".format(counter, i))\n",
    "#        splitup = i.split(\"-\")\n",
    "#        date = splitup[0]\n",
    "#        t = splitup[1][0:4]\n",
    "#        tformatted = t[0:2] + \":\" + t[2:4]\n",
    "#        img = Image.open(i)\n",
    "#        draw = ImageDraw.Draw(img)\n",
    "#        draw.text((img.width-220,img.height-150), date, fontcolor, font=fontsmall)\n",
    "#        draw.text((img.width-220,img.height-120), tformatted, fontcolor, font=font)\n",
    "#        filename = i[0:-4] + \"-withtext.JPG\"\n",
    "#        img.save(filename)\n",
    "        \n",
    "#Timelapse generation        \n",
    "command = \"ffmpeg -framerate 15 -pattern_type glob -i '\"+basepath+'*.JPG'+\"' -s:v 3504x2624 -c:v libx264 -crf 17 -pix_fmt yuv420p \"+date+\".mp4\"\n",
    "subprocess.call(command,shell=True)        "
   ]
  }
 ],
 "metadata": {
  "kernelspec": {
   "display_name": "Python 3 (ipykernel)",
   "language": "python",
   "name": "python3"
  },
  "language_info": {
   "codemirror_mode": {
    "name": "ipython",
    "version": 3
   },
   "file_extension": ".py",
   "mimetype": "text/x-python",
   "name": "python",
   "nbconvert_exporter": "python",
   "pygments_lexer": "ipython3",
   "version": "3.9.16"
  }
 },
 "nbformat": 4,
 "nbformat_minor": 5
}
