{
 "cells": [
  {
   "cell_type": "code",
   "execution_count": 1,
   "id": "ed536d11-116f-42c8-afd1-301bfb9c6d3a",
   "metadata": {
    "tags": []
   },
   "outputs": [],
   "source": [
    "import time\n",
    "from open_gopro import WiredGoPro, Params\n",
    "import os\n",
    "import requests\n",
    "import numpy as np\n",
    "import datetime\n",
    "from datetime import timezone\n",
    "from astral.sun import sun\n",
    "from astral import LocationInfo\n",
    "import pytz\n",
    "import json\n",
    "import re\n",
    "import signal\n",
    "import subprocess\n",
    "from PIL import Image\n",
    "from PIL import ImageFont\n",
    "from PIL import ImageDraw\n",
    "import os\n",
    "\n",
    "#serial number of GoPro\n",
    "sn='C3471325923859'\n",
    "ip='172.28.159.51'\n",
    "basepath = '/home/pi/autofs/data/gopro/'\n",
    "\n",
    "font = ImageFont.truetype(\"/usr/share/fonts/truetype/freefont/FreeSans.ttf\", 72)\n",
    "fontsmall = ImageFont.truetype(\"/usr/share/fonts/truetype/freefont/FreeSans.ttf\", 36)\n",
    "fontcolor = (238,161,6)\n",
    "\n",
    "def utc_to_local(utc_dt):\n",
    "    return utc_dt.replace(tzinfo=timezone.utc).astimezone(tz=None)\n",
    "\n",
    "def is_dst(dt=None, timezone='CET'):\n",
    "    \"\"\"Is daylight savings in effect?\"\"\"\n",
    "    if dt is None:\n",
    "        dt = datetime.datetime.utcnow()\n",
    "    timezone = pytz.timezone(timezone)\n",
    "    timezone_aware_date = timezone.localize(dt, is_dst=None)\n",
    "    return timezone_aware_date.tzinfo._dst.seconds != 0"
   ]
  },
  {
   "cell_type": "code",
   "execution_count": 2,
   "id": "46ede20f-5563-42c4-a1e6-bf83ac35d88a",
   "metadata": {
    "tags": []
   },
   "outputs": [],
   "source": [
    "with WiredGoPro(serial=sn) as gopro:\n",
    "    time.sleep(2)\n",
    "    gopro.http_command.wired_usb_control(control=Params.Toggle.ENABLE)\n",
    "    gopro.http_command.set_keep_alive()\n",
    "    gopro.http_command.load_preset_group(group=Params.PresetGroup.PHOTO)\n",
    "    media_list = gopro.http_command.get_media_list()"
   ]
  },
  {
   "cell_type": "code",
   "execution_count": 10,
   "id": "49a9545d-a094-4f86-805b-f6b7777c1a2f",
   "metadata": {
    "tags": []
   },
   "outputs": [],
   "source": [
    "media_list = [x[\"n\"] for x in gopro.http_command.get_media_list().flatten]"
   ]
  },
  {
   "cell_type": "code",
   "execution_count": 8,
   "id": "fce27ce1-11e8-46ae-873a-5ce3c8b7db14",
   "metadata": {
    "tags": []
   },
   "outputs": [
    {
     "data": {
      "text/plain": [
       "GoProResp <http://172.28.159.51:8080/videos/DCIM/100GOPRO/GX018654.MP4: _State.PARSED>"
      ]
     },
     "execution_count": 8,
     "metadata": {},
     "output_type": "execute_result"
    }
   ],
   "source": [
    "gopro.http_command.download_file(camera_file='GX018654.MP4', local_file='/home/pi/Downloads/GX018654.MP4')"
   ]
  },
  {
   "cell_type": "code",
   "execution_count": 9,
   "id": "d7af24a8-f85b-4138-bfcb-b157e6ff212c",
   "metadata": {
    "tags": []
   },
   "outputs": [
    {
     "name": "stdout",
     "output_type": "stream",
     "text": [
      "Delete  GX018654.MP4\n"
     ]
    }
   ],
   "source": [
    "for f in media_list:\n",
    "    print('Delete ', f)\n",
    "    url = \"http://\"+ip+\":8080/gp/gpControl/command/storage/delete?p=\" + \"/100GOPRO/\" + f\n",
    "    with requests.get(url) as request:\n",
    "        request.raise_for_status()"
   ]
  },
  {
   "cell_type": "code",
   "execution_count": 3,
   "id": "42c0073e-3f29-4c58-bb6e-50d13f3bbfc3",
   "metadata": {
    "tags": []
   },
   "outputs": [
    {
     "name": "stderr",
     "output_type": "stream",
     "text": [
      "404 Client Error:  for url: http://172.28.159.51:8080/gopro/media/info?path=100GOPRO/GOPR0001.JPG\n"
     ]
    },
    {
     "name": "stdout",
     "output_type": "stream",
     "text": [
      "Download  GOPR0001.JPG\n"
     ]
    },
    {
     "ename": "KeyError",
     "evalue": "'cre'",
     "output_type": "error",
     "traceback": [
      "\u001b[0;31m---------------------------------------------------------------------------\u001b[0m",
      "\u001b[0;31mKeyError\u001b[0m                                  Traceback (most recent call last)",
      "Cell \u001b[0;32mIn[3], line 6\u001b[0m\n\u001b[1;32m      4\u001b[0m \u001b[38;5;28;01mfor\u001b[39;00m f \u001b[38;5;129;01min\u001b[39;00m media_list:\n\u001b[1;32m      5\u001b[0m     \u001b[38;5;28mprint\u001b[39m(\u001b[38;5;124m'\u001b[39m\u001b[38;5;124mDownload \u001b[39m\u001b[38;5;124m'\u001b[39m, f)\n\u001b[0;32m----> 6\u001b[0m     epoch_file \u001b[38;5;241m=\u001b[39m \u001b[43mgopro\u001b[49m\u001b[38;5;241;43m.\u001b[39;49m\u001b[43mhttp_command\u001b[49m\u001b[38;5;241;43m.\u001b[39;49m\u001b[43mget_media_info\u001b[49m\u001b[43m(\u001b[49m\u001b[43mfile\u001b[49m\u001b[38;5;241;43m=\u001b[39;49m\u001b[43mf\u001b[49m\u001b[43m)\u001b[49m\u001b[38;5;241;43m.\u001b[39;49m\u001b[43mdata\u001b[49m\u001b[43m[\u001b[49m\u001b[38;5;124;43m'\u001b[39;49m\u001b[38;5;124;43mcre\u001b[39;49m\u001b[38;5;124;43m'\u001b[39;49m\u001b[43m]\u001b[49m\n\u001b[1;32m      7\u001b[0m     utc_file \u001b[38;5;241m=\u001b[39m datetime\u001b[38;5;241m.\u001b[39mdatetime\u001b[38;5;241m.\u001b[39mfromtimestamp(\u001b[38;5;28mint\u001b[39m(epoch_file))\n\u001b[1;32m      8\u001b[0m     tstr \u001b[38;5;241m=\u001b[39m utc_file\u001b[38;5;241m.\u001b[39mstrftime(\u001b[38;5;124m'\u001b[39m\u001b[38;5;124m%\u001b[39m\u001b[38;5;124mY\u001b[39m\u001b[38;5;124m%\u001b[39m\u001b[38;5;124mm\u001b[39m\u001b[38;5;132;01m%d\u001b[39;00m\u001b[38;5;124m-\u001b[39m\u001b[38;5;124m%\u001b[39m\u001b[38;5;124mH\u001b[39m\u001b[38;5;124m%\u001b[39m\u001b[38;5;124mM\u001b[39m\u001b[38;5;124m%\u001b[39m\u001b[38;5;124mS\u001b[39m\u001b[38;5;124m'\u001b[39m)\n",
      "\u001b[0;31mKeyError\u001b[0m: 'cre'"
     ]
    }
   ],
   "source": [
    "with WiredGoPro(serial=sn) as gopro:\n",
    "    time.sleep(2)\n",
    "    time.sleep(2)\n",
    "    gopro.http_command.wired_usb_control(control=Params.Toggle.ENABLE)\n",
    "    gopro.http_command.set_keep_alive()\n",
    "    gopro.http_command.load_preset_group(group=Params.PresetGroup.PHOTO)\n",
    "    media_list = [x[\"n\"] for x in gopro.http_command.get_media_list().flatten]\n",
    "    for f in media_list:\n",
    "        print('Download ', f)\n",
    "        epoch_file = gopro.http_command.get_media_info(file=f).data['cre']\n",
    "        utc_file = datetime.datetime.fromtimestamp(int(epoch_file))\n",
    "        tstr = utc_file.strftime('%Y%m%d-%H%M%S')\n",
    "        lpath = basepath+'day/'+tstr[0:8]+'/'\n",
    "        if not os.path.exists(lpath):\n",
    "            os.makedirs(lpath)\n",
    "        lfile = lpath+tstr+'.JPG'\n",
    "        gopro.http_command.download_file(camera_file=f, local_file=lfile)\n",
    "        filename=tstr+'.JPG'\n",
    "        splitup = filename.split(\"-\")\n",
    "        date = splitup[0]\n",
    "        t = splitup[1][0:4]\n",
    "        tformatted = t[0:2] + \":\" + t[2:4]\n",
    "        img = Image.open(lfile)\n",
    "        draw = ImageDraw.Draw(img)\n",
    "        draw.text((img.width-220,img.height-150), date, fontcolor, font=fontsmall)\n",
    "        draw.text((img.width-220,img.height-120), tformatted, fontcolor, font=font)\n",
    "        img.save(lfile)\n",
    "\n",
    "        #print('Delete ', f)\n",
    "        url = \"http://\"+ip+\":8080/gp/gpControl/command/storage/delete?p=\" + \"/100GOPRO/\" + f\n",
    "        with requests.get(url) as request:\n",
    "            request.raise_for_status()"
   ]
  },
  {
   "cell_type": "code",
   "execution_count": 23,
   "id": "aaa7ffe1-5600-4a84-8973-8d111b54e2f9",
   "metadata": {
    "tags": []
   },
   "outputs": [
    {
     "name": "stdout",
     "output_type": "stream",
     "text": [
      "Delete  GOPR0001.JPG\n"
     ]
    },
    {
     "ename": "HTTPError",
     "evalue": "500 Server Error: Internal Server Error for url: http://172.28.159.51:8080/gp/gpControl/command/storage/delete?p=/100GOPRO/GOPR0001.JPG",
     "output_type": "error",
     "traceback": [
      "\u001b[0;31m---------------------------------------------------------------------------\u001b[0m",
      "\u001b[0;31mHTTPError\u001b[0m                                 Traceback (most recent call last)",
      "Cell \u001b[0;32mIn[23], line 12\u001b[0m\n\u001b[1;32m     10\u001b[0m url \u001b[38;5;241m=\u001b[39m \u001b[38;5;124m\"\u001b[39m\u001b[38;5;124mhttp://\u001b[39m\u001b[38;5;124m\"\u001b[39m\u001b[38;5;241m+\u001b[39mip\u001b[38;5;241m+\u001b[39m\u001b[38;5;124m\"\u001b[39m\u001b[38;5;124m:8080/gp/gpControl/command/storage/delete?p=\u001b[39m\u001b[38;5;124m\"\u001b[39m \u001b[38;5;241m+\u001b[39m \u001b[38;5;124m\"\u001b[39m\u001b[38;5;124m/100GOPRO/\u001b[39m\u001b[38;5;124m\"\u001b[39m \u001b[38;5;241m+\u001b[39m f\n\u001b[1;32m     11\u001b[0m \u001b[38;5;28;01mwith\u001b[39;00m requests\u001b[38;5;241m.\u001b[39mget(url) \u001b[38;5;28;01mas\u001b[39;00m request:\n\u001b[0;32m---> 12\u001b[0m     \u001b[43mrequest\u001b[49m\u001b[38;5;241;43m.\u001b[39;49m\u001b[43mraise_for_status\u001b[49m\u001b[43m(\u001b[49m\u001b[43m)\u001b[49m\n",
      "File \u001b[0;32m~/.local/lib/python3.9/site-packages/requests/models.py:1021\u001b[0m, in \u001b[0;36mResponse.raise_for_status\u001b[0;34m(self)\u001b[0m\n\u001b[1;32m   1016\u001b[0m     http_error_msg \u001b[38;5;241m=\u001b[39m (\n\u001b[1;32m   1017\u001b[0m         \u001b[38;5;124mf\u001b[39m\u001b[38;5;124m\"\u001b[39m\u001b[38;5;132;01m{\u001b[39;00m\u001b[38;5;28mself\u001b[39m\u001b[38;5;241m.\u001b[39mstatus_code\u001b[38;5;132;01m}\u001b[39;00m\u001b[38;5;124m Server Error: \u001b[39m\u001b[38;5;132;01m{\u001b[39;00mreason\u001b[38;5;132;01m}\u001b[39;00m\u001b[38;5;124m for url: \u001b[39m\u001b[38;5;132;01m{\u001b[39;00m\u001b[38;5;28mself\u001b[39m\u001b[38;5;241m.\u001b[39murl\u001b[38;5;132;01m}\u001b[39;00m\u001b[38;5;124m\"\u001b[39m\n\u001b[1;32m   1018\u001b[0m     )\n\u001b[1;32m   1020\u001b[0m \u001b[38;5;28;01mif\u001b[39;00m http_error_msg:\n\u001b[0;32m-> 1021\u001b[0m     \u001b[38;5;28;01mraise\u001b[39;00m HTTPError(http_error_msg, response\u001b[38;5;241m=\u001b[39m\u001b[38;5;28mself\u001b[39m)\n",
      "\u001b[0;31mHTTPError\u001b[0m: 500 Server Error: Internal Server Error for url: http://172.28.159.51:8080/gp/gpControl/command/storage/delete?p=/100GOPRO/GOPR0001.JPG"
     ]
    }
   ],
   "source": [
    "with WiredGoPro(serial=sn) as gopro:\n",
    "    gopro.http_command.wired_usb_control(control=Params.Toggle.ENABLE)\n",
    "    gopro.http_command.set_keep_alive()\n",
    "    gopro.http_command.load_preset_group(group=Params.PresetGroup.PHOTO)\n",
    "    media_list = [x[\"n\"] for x in gopro.http_command.get_media_list().flatten]\n",
    "    for f in media_list:\n",
    "        print('Delete ', f)\n",
    "        url = \"http://\"+ip+\":8080/gp/gpControl/command/storage/delete?p=\" + \"/100GOPRO/\" + f\n",
    "        with requests.get(url) as request:\n",
    "            request.raise_for_status()"
   ]
  },
  {
   "cell_type": "code",
   "execution_count": null,
   "id": "adc5e792-b349-40c1-9a5f-62b2b8e65c2d",
   "metadata": {},
   "outputs": [],
   "source": []
  },
  {
   "cell_type": "code",
   "execution_count": 20,
   "id": "f3b41d4f-0d1c-41d6-b409-48960455a84d",
   "metadata": {
    "tags": []
   },
   "outputs": [
    {
     "ename": "HTTPError",
     "evalue": "404 Client Error: Not Found for url: http://172.28.159.51:8080/videos/DCIM/100GOPRO/gopro/media/list/GOPR0401.JPG",
     "output_type": "error",
     "traceback": [
      "\u001b[0;31m---------------------------------------------------------------------------\u001b[0m",
      "\u001b[0;31mHTTPError\u001b[0m                                 Traceback (most recent call last)",
      "Cell \u001b[0;32mIn[20], line 2\u001b[0m\n\u001b[1;32m      1\u001b[0m \u001b[38;5;28;01mwith\u001b[39;00m WiredGoPro(serial\u001b[38;5;241m=\u001b[39msn) \u001b[38;5;28;01mas\u001b[39;00m gopro:\n\u001b[0;32m----> 2\u001b[0m     \u001b[43mgopro\u001b[49m\u001b[38;5;241;43m.\u001b[39;49m\u001b[43mhttp_command\u001b[49m\u001b[38;5;241;43m.\u001b[39;49m\u001b[43mdownload_file\u001b[49m\u001b[43m(\u001b[49m\u001b[43mcamera_file\u001b[49m\u001b[38;5;241;43m=\u001b[39;49m\u001b[38;5;124;43m'\u001b[39;49m\u001b[38;5;124;43mgopro/media/list/GOPR0401.JPG\u001b[39;49m\u001b[38;5;124;43m'\u001b[39;49m\u001b[43m)\u001b[49m\n",
      "File \u001b[0;32m~/.local/lib/python3.9/site-packages/open_gopro/api/builders.py:1054\u001b[0m, in \u001b[0;36mhttp_get_binary_command.<locals>.wrapper\u001b[0;34m(wrapped, instance, _, kwargs)\u001b[0m\n\u001b[1;32m   1052\u001b[0m \u001b[38;5;129m@wrapt\u001b[39m\u001b[38;5;241m.\u001b[39mdecorator\n\u001b[1;32m   1053\u001b[0m \u001b[38;5;28;01mdef\u001b[39;00m \u001b[38;5;21mwrapper\u001b[39m(wrapped: Callable, instance: HttpMessages, _: Any, kwargs: Any) \u001b[38;5;241m-\u001b[39m\u001b[38;5;241m>\u001b[39m GoProResp:\n\u001b[0;32m-> 1054\u001b[0m     \u001b[38;5;28;01mreturn\u001b[39;00m \u001b[43mmessage\u001b[49m\u001b[43m(\u001b[49m\u001b[43minstance\u001b[49m\u001b[38;5;241;43m.\u001b[39;49m\u001b[43m_communicator\u001b[49m\u001b[43m,\u001b[49m\u001b[43m \u001b[49m\u001b[38;5;241;43m*\u001b[39;49m\u001b[38;5;241;43m*\u001b[39;49m\u001b[43m(\u001b[49m\u001b[43mwrapped\u001b[49m\u001b[43m(\u001b[49m\u001b[38;5;241;43m*\u001b[39;49m\u001b[38;5;241;43m*\u001b[39;49m\u001b[43mkwargs\u001b[49m\u001b[43m)\u001b[49m\u001b[43m \u001b[49m\u001b[38;5;129;43;01mor\u001b[39;49;00m\u001b[43m \u001b[49m\u001b[43mkwargs\u001b[49m\u001b[43m)\u001b[49m\u001b[43m)\u001b[49m\n",
      "File \u001b[0;32m~/.local/lib/python3.9/site-packages/open_gopro/api/builders.py:990\u001b[0m, in \u001b[0;36mHttpGetBinary.__call__\u001b[0;34m(self, __communicator__, camera_file, local_file)\u001b[0m\n\u001b[1;32m    984\u001b[0m logger\u001b[38;5;241m.\u001b[39minfo(\n\u001b[1;32m    985\u001b[0m     Logger\u001b[38;5;241m.\u001b[39mbuild_log_tx_str(\n\u001b[1;32m    986\u001b[0m         jsonify(\u001b[38;5;28mself\u001b[39m\u001b[38;5;241m.\u001b[39m_as_dict(endpoint\u001b[38;5;241m=\u001b[39murl, camera_file\u001b[38;5;241m=\u001b[39mcamera_file, local_file\u001b[38;5;241m=\u001b[39mlocal_file))\n\u001b[1;32m    987\u001b[0m     )\n\u001b[1;32m    988\u001b[0m )\n\u001b[1;32m    989\u001b[0m \u001b[38;5;66;03m# Send to camera\u001b[39;00m\n\u001b[0;32m--> 990\u001b[0m response \u001b[38;5;241m=\u001b[39m \u001b[43m__communicator__\u001b[49m\u001b[38;5;241;43m.\u001b[39;49m\u001b[43m_stream_to_file\u001b[49m\u001b[43m(\u001b[49m\u001b[43murl\u001b[49m\u001b[43m,\u001b[49m\u001b[43m \u001b[49m\u001b[43mlocal_file\u001b[49m\u001b[43m)\u001b[49m\n\u001b[1;32m    991\u001b[0m logger\u001b[38;5;241m.\u001b[39minfo(\n\u001b[1;32m    992\u001b[0m     Logger\u001b[38;5;241m.\u001b[39mbuild_log_rx_str(\n\u001b[1;32m    993\u001b[0m         jsonify(\u001b[38;5;28mself\u001b[39m\u001b[38;5;241m.\u001b[39m_as_dict(status\u001b[38;5;241m=\u001b[39m\u001b[38;5;124m\"\u001b[39m\u001b[38;5;124mSUCCESS\u001b[39m\u001b[38;5;124m\"\u001b[39m, endpoint\u001b[38;5;241m=\u001b[39murl, local_file\u001b[38;5;241m=\u001b[39mlocal_file))\n\u001b[1;32m    994\u001b[0m     )\n\u001b[1;32m    995\u001b[0m )\n\u001b[1;32m    996\u001b[0m \u001b[38;5;28;01mreturn\u001b[39;00m response\n",
      "File \u001b[0;32m~/.local/lib/python3.9/site-packages/open_gopro/gopro_wired.py:53\u001b[0m, in \u001b[0;36menforce_message_rules\u001b[0;34m(wrapped, instance, args, kwargs)\u001b[0m\n\u001b[1;32m     51\u001b[0m     instance\u001b[38;5;241m.\u001b[39m_wait_for_state({StatusId\u001b[38;5;241m.\u001b[39mENCODING: \u001b[38;5;28;01mFalse\u001b[39;00m, StatusId\u001b[38;5;241m.\u001b[39mSYSTEM_BUSY: \u001b[38;5;28;01mFalse\u001b[39;00m})\n\u001b[1;32m     52\u001b[0m     logger\u001b[38;5;241m.\u001b[39mtrace(\u001b[38;5;124m\"\u001b[39m\u001b[38;5;124mCamera is ready to receive messages\u001b[39m\u001b[38;5;124m\"\u001b[39m)  \u001b[38;5;66;03m# type: ignore\u001b[39;00m\n\u001b[0;32m---> 53\u001b[0m     response \u001b[38;5;241m=\u001b[39m \u001b[43mwrapped\u001b[49m\u001b[43m(\u001b[49m\u001b[38;5;241;43m*\u001b[39;49m\u001b[43margs\u001b[49m\u001b[43m,\u001b[49m\u001b[43m \u001b[49m\u001b[38;5;241;43m*\u001b[39;49m\u001b[38;5;241;43m*\u001b[39;49m\u001b[43mkwargs\u001b[49m\u001b[43m)\u001b[49m\n\u001b[1;32m     54\u001b[0m \u001b[38;5;28;01melse\u001b[39;00m:  \u001b[38;5;66;03m# Either we're not maintaining state, we're not opened yet, or this is a fastpass message\u001b[39;00m\n\u001b[1;32m     55\u001b[0m     response \u001b[38;5;241m=\u001b[39m wrapped(\u001b[38;5;241m*\u001b[39margs, \u001b[38;5;241m*\u001b[39m\u001b[38;5;241m*\u001b[39mkwargs)\n",
      "File \u001b[0;32m~/.local/lib/python3.9/site-packages/open_gopro/gopro_wired.py:361\u001b[0m, in \u001b[0;36mWiredGoPro._stream_to_file\u001b[0;34m(self, url, file)\u001b[0m\n\u001b[1;32m    359\u001b[0m \u001b[38;5;129m@enforce_message_rules\u001b[39m\n\u001b[1;32m    360\u001b[0m \u001b[38;5;28;01mdef\u001b[39;00m \u001b[38;5;21m_stream_to_file\u001b[39m(\u001b[38;5;28mself\u001b[39m, url: \u001b[38;5;28mstr\u001b[39m, file: Path) \u001b[38;5;241m-\u001b[39m\u001b[38;5;241m>\u001b[39m GoProResp:\n\u001b[0;32m--> 361\u001b[0m     \u001b[38;5;28;01mreturn\u001b[39;00m \u001b[38;5;28;43msuper\u001b[39;49m\u001b[43m(\u001b[49m\u001b[43m)\u001b[49m\u001b[38;5;241;43m.\u001b[39;49m\u001b[43m_stream_to_file\u001b[49m\u001b[43m(\u001b[49m\u001b[43murl\u001b[49m\u001b[43m,\u001b[49m\u001b[43m \u001b[49m\u001b[43mfile\u001b[49m\u001b[43m)\u001b[49m\n",
      "File \u001b[0;32m~/.local/lib/python3.9/site-packages/open_gopro/gopro_base.py:89\u001b[0m, in \u001b[0;36mensure_opened.<locals>.wrapper\u001b[0;34m(wrapped, instance, args, kwargs)\u001b[0m\n\u001b[1;32m     87\u001b[0m \u001b[38;5;28;01mif\u001b[39;00m GoProMessageInterface\u001b[38;5;241m.\u001b[39mHTTP \u001b[38;5;129;01min\u001b[39;00m interface \u001b[38;5;129;01mand\u001b[39;00m \u001b[38;5;129;01mnot\u001b[39;00m instance\u001b[38;5;241m.\u001b[39mis_http_connected:\n\u001b[1;32m     88\u001b[0m     \u001b[38;5;28;01mraise\u001b[39;00m GpException\u001b[38;5;241m.\u001b[39mGoProNotOpened(\u001b[38;5;124m\"\u001b[39m\u001b[38;5;124mHTTP interface not connected\u001b[39m\u001b[38;5;124m\"\u001b[39m)\n\u001b[0;32m---> 89\u001b[0m \u001b[38;5;28;01mreturn\u001b[39;00m \u001b[43mwrapped\u001b[49m\u001b[43m(\u001b[49m\u001b[38;5;241;43m*\u001b[39;49m\u001b[43margs\u001b[49m\u001b[43m,\u001b[49m\u001b[43m \u001b[49m\u001b[38;5;241;43m*\u001b[39;49m\u001b[38;5;241;43m*\u001b[39;49m\u001b[43mkwargs\u001b[49m\u001b[43m)\u001b[49m\n",
      "File \u001b[0;32m~/.local/lib/python3.9/site-packages/open_gopro/gopro_base.py:400\u001b[0m, in \u001b[0;36mGoProBase._stream_to_file\u001b[0;34m(self, url, file)\u001b[0m\n\u001b[1;32m    398\u001b[0m logger\u001b[38;5;241m.\u001b[39mdebug(\u001b[38;5;124mf\u001b[39m\u001b[38;5;124m\"\u001b[39m\u001b[38;5;124mSending: \u001b[39m\u001b[38;5;132;01m{\u001b[39;00murl\u001b[38;5;132;01m}\u001b[39;00m\u001b[38;5;124m\"\u001b[39m)\n\u001b[1;32m    399\u001b[0m \u001b[38;5;28;01mwith\u001b[39;00m requests\u001b[38;5;241m.\u001b[39mget(url, stream\u001b[38;5;241m=\u001b[39m\u001b[38;5;28;01mTrue\u001b[39;00m, timeout\u001b[38;5;241m=\u001b[39mGET_TIMEOUT) \u001b[38;5;28;01mas\u001b[39;00m request:\n\u001b[0;32m--> 400\u001b[0m     \u001b[43mrequest\u001b[49m\u001b[38;5;241;43m.\u001b[39;49m\u001b[43mraise_for_status\u001b[49m\u001b[43m(\u001b[49m\u001b[43m)\u001b[49m\n\u001b[1;32m    401\u001b[0m     \u001b[38;5;28;01mwith\u001b[39;00m \u001b[38;5;28mopen\u001b[39m(file, \u001b[38;5;124m\"\u001b[39m\u001b[38;5;124mwb\u001b[39m\u001b[38;5;124m\"\u001b[39m) \u001b[38;5;28;01mas\u001b[39;00m f:\n\u001b[1;32m    402\u001b[0m         logger\u001b[38;5;241m.\u001b[39mdebug(\u001b[38;5;124mf\u001b[39m\u001b[38;5;124m\"\u001b[39m\u001b[38;5;124mreceiving stream to \u001b[39m\u001b[38;5;132;01m{\u001b[39;00mfile\u001b[38;5;132;01m}\u001b[39;00m\u001b[38;5;124m...\u001b[39m\u001b[38;5;124m\"\u001b[39m)\n",
      "File \u001b[0;32m~/.local/lib/python3.9/site-packages/requests/models.py:1021\u001b[0m, in \u001b[0;36mResponse.raise_for_status\u001b[0;34m(self)\u001b[0m\n\u001b[1;32m   1016\u001b[0m     http_error_msg \u001b[38;5;241m=\u001b[39m (\n\u001b[1;32m   1017\u001b[0m         \u001b[38;5;124mf\u001b[39m\u001b[38;5;124m\"\u001b[39m\u001b[38;5;132;01m{\u001b[39;00m\u001b[38;5;28mself\u001b[39m\u001b[38;5;241m.\u001b[39mstatus_code\u001b[38;5;132;01m}\u001b[39;00m\u001b[38;5;124m Server Error: \u001b[39m\u001b[38;5;132;01m{\u001b[39;00mreason\u001b[38;5;132;01m}\u001b[39;00m\u001b[38;5;124m for url: \u001b[39m\u001b[38;5;132;01m{\u001b[39;00m\u001b[38;5;28mself\u001b[39m\u001b[38;5;241m.\u001b[39murl\u001b[38;5;132;01m}\u001b[39;00m\u001b[38;5;124m\"\u001b[39m\n\u001b[1;32m   1018\u001b[0m     )\n\u001b[1;32m   1020\u001b[0m \u001b[38;5;28;01mif\u001b[39;00m http_error_msg:\n\u001b[0;32m-> 1021\u001b[0m     \u001b[38;5;28;01mraise\u001b[39;00m HTTPError(http_error_msg, response\u001b[38;5;241m=\u001b[39m\u001b[38;5;28mself\u001b[39m)\n",
      "\u001b[0;31mHTTPError\u001b[0m: 404 Client Error: Not Found for url: http://172.28.159.51:8080/videos/DCIM/100GOPRO/gopro/media/list/GOPR0401.JPG"
     ]
    }
   ],
   "source": [
    "with WiredGoPro(serial=sn) as gopro:\n",
    "    gopro.http_command.download_file(camera_file='gopro/media/list/GOPR0401.JPG')"
   ]
  }
 ],
 "metadata": {
  "kernelspec": {
   "display_name": "Python 3 (ipykernel)",
   "language": "python",
   "name": "python3"
  },
  "language_info": {
   "codemirror_mode": {
    "name": "ipython",
    "version": 3
   },
   "file_extension": ".py",
   "mimetype": "text/x-python",
   "name": "python",
   "nbconvert_exporter": "python",
   "pygments_lexer": "ipython3",
   "version": "3.9.2"
  }
 },
 "nbformat": 4,
 "nbformat_minor": 5
}
