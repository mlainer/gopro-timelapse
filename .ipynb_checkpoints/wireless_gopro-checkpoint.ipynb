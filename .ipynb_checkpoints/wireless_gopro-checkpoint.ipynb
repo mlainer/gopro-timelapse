{
 "cells": [
  {
   "cell_type": "code",
   "execution_count": 28,
   "id": "4071645e-9f01-4454-aa85-ab25a2eddf5a",
   "metadata": {
    "tags": []
   },
   "outputs": [],
   "source": [
    "import time\n",
    "from open_gopro import WirelessGoPro, Params\n",
    "import os\n",
    "import requests\n",
    "import numpy as np\n",
    "import datetime\n",
    "from datetime import timezone\n",
    "from astral.sun import sun\n",
    "from astral import LocationInfo\n",
    "import pytz\n",
    "import json\n",
    "import re\n",
    "import signal\n",
    "import subprocess\n",
    "from PIL import Image\n",
    "from PIL import ImageFont\n",
    "from PIL import ImageDraw\n",
    "import os\n",
    "import netifaces as ni"
   ]
  },
  {
   "cell_type": "code",
   "execution_count": 29,
   "id": "a1e4462d-ed5f-43b7-af4b-9498ce9aabee",
   "metadata": {},
   "outputs": [],
   "source": [
    "gopro = WirelessGoPro(sudo_password='ay!MLMSL26y')\n",
    "gopro.open()"
   ]
  },
  {
   "cell_type": "code",
   "execution_count": 19,
   "id": "5aa113db-6507-4e10-9bbb-cf7f75f14601",
   "metadata": {
    "tags": []
   },
   "outputs": [],
   "source": [
    "ip = ni.ifaddresses('wlan0')[ni.AF_INET][0]['addr']"
   ]
  },
  {
   "cell_type": "code",
   "execution_count": 32,
   "id": "6473d033-0042-4ce6-93c2-669ed130dd0b",
   "metadata": {
    "tags": []
   },
   "outputs": [
    {
     "name": "stderr",
     "output_type": "stream",
     "text": [
      "ERROR:open_gopro.responses:received too much data. parsing is in unknown state\n",
      "ERROR:open_gopro.responses:received too much data. parsing is in unknown state\n",
      "ERROR:open_gopro.responses:received too much data. parsing is in unknown state\n",
      "ERROR:open_gopro.responses:received too much data. parsing is in unknown state\n",
      "ERROR:open_gopro.responses:received too much data. parsing is in unknown state\n",
      "ERROR:open_gopro.responses:received too much data. parsing is in unknown state\n",
      "ERROR:open_gopro.responses:received too much data. parsing is in unknown state\n",
      "ERROR:open_gopro.responses:received too much data. parsing is in unknown state\n",
      "ERROR:open_gopro.responses:received too much data. parsing is in unknown state\n",
      "ERROR:open_gopro.responses:received too much data. parsing is in unknown state\n",
      "ERROR:open_gopro.responses:received too much data. parsing is in unknown state\n",
      "ERROR:open_gopro.responses:received too much data. parsing is in unknown state\n",
      "ERROR:open_gopro.responses:received too much data. parsing is in unknown state\n",
      "ERROR:open_gopro.responses:received too much data. parsing is in unknown state\n",
      "ERROR:open_gopro.responses:received too much data. parsing is in unknown state\n",
      "ERROR:open_gopro.responses:received too much data. parsing is in unknown state\n",
      "ERROR:open_gopro.responses:received too much data. parsing is in unknown state\n",
      "ERROR:open_gopro.responses:received too much data. parsing is in unknown state\n",
      "ERROR:open_gopro.gopro_wireless:Response timeout of 5 seconds!\n"
     ]
    },
    {
     "ename": "ResponseTimeout",
     "evalue": "Response timeout occurred of 5 seconds",
     "output_type": "error",
     "traceback": [
      "\u001b[0;31m---------------------------------------------------------------------------\u001b[0m",
      "\u001b[0;31mEmpty\u001b[0m                                     Traceback (most recent call last)",
      "File \u001b[0;32m~/.local/lib/python3.9/site-packages/open_gopro/gopro_wireless.py:597\u001b[0m, in \u001b[0;36mWirelessGoPro._send_ble_message\u001b[0;34m(self, uuid, data, response_id, **_)\u001b[0m\n\u001b[1;32m    596\u001b[0m \u001b[38;5;28;01mtry\u001b[39;00m:\n\u001b[0;32m--> 597\u001b[0m     response: GoProResp \u001b[38;5;241m=\u001b[39m \u001b[38;5;28;43mself\u001b[39;49m\u001b[38;5;241;43m.\u001b[39;49m\u001b[43m_sync_resp_ready_q\u001b[49m\u001b[38;5;241;43m.\u001b[39;49m\u001b[43mget\u001b[49m\u001b[43m(\u001b[49m\u001b[43mtimeout\u001b[49m\u001b[38;5;241;43m=\u001b[39;49m\u001b[43mWRITE_TIMEOUT\u001b[49m\u001b[43m)\u001b[49m\n\u001b[1;32m    598\u001b[0m \u001b[38;5;28;01mexcept\u001b[39;00m queue\u001b[38;5;241m.\u001b[39mEmpty \u001b[38;5;28;01mas\u001b[39;00m e:\n",
      "File \u001b[0;32m/usr/lib/python3.9/queue.py:179\u001b[0m, in \u001b[0;36mQueue.get\u001b[0;34m(self, block, timeout)\u001b[0m\n\u001b[1;32m    178\u001b[0m \u001b[38;5;28;01mif\u001b[39;00m remaining \u001b[38;5;241m<\u001b[39m\u001b[38;5;241m=\u001b[39m \u001b[38;5;241m0.0\u001b[39m:\n\u001b[0;32m--> 179\u001b[0m     \u001b[38;5;28;01mraise\u001b[39;00m Empty\n\u001b[1;32m    180\u001b[0m \u001b[38;5;28mself\u001b[39m\u001b[38;5;241m.\u001b[39mnot_empty\u001b[38;5;241m.\u001b[39mwait(remaining)\n",
      "\u001b[0;31mEmpty\u001b[0m: ",
      "\nThe above exception was the direct cause of the following exception:\n",
      "\u001b[0;31mResponseTimeout\u001b[0m                           Traceback (most recent call last)",
      "Cell \u001b[0;32mIn[32], line 1\u001b[0m\n\u001b[0;32m----> 1\u001b[0m \u001b[43mgopro\u001b[49m\u001b[38;5;241;43m.\u001b[39;49m\u001b[43mble_command\u001b[49m\u001b[38;5;241;43m.\u001b[39;49m\u001b[43mget_hardware_info\u001b[49m\u001b[43m(\u001b[49m\u001b[43m)\u001b[49m\n",
      "File \u001b[0;32m~/.local/lib/python3.9/site-packages/open_gopro/api/builders.py:448\u001b[0m, in \u001b[0;36mble_write_command.<locals>.wrapper\u001b[0;34m(wrapped, instance, _, kwargs)\u001b[0m\n\u001b[1;32m    446\u001b[0m \u001b[38;5;129m@wrapt\u001b[39m\u001b[38;5;241m.\u001b[39mdecorator\n\u001b[1;32m    447\u001b[0m \u001b[38;5;28;01mdef\u001b[39;00m \u001b[38;5;21mwrapper\u001b[39m(wrapped: Callable, instance: BleMessages, _: Any, kwargs: Any) \u001b[38;5;241m-\u001b[39m\u001b[38;5;241m>\u001b[39m GoProResp:\n\u001b[0;32m--> 448\u001b[0m     \u001b[38;5;28;01mreturn\u001b[39;00m \u001b[43mmessage\u001b[49m\u001b[43m(\u001b[49m\u001b[43minstance\u001b[49m\u001b[38;5;241;43m.\u001b[39;49m\u001b[43m_communicator\u001b[49m\u001b[43m,\u001b[49m\u001b[43m \u001b[49m\u001b[38;5;241;43m*\u001b[39;49m\u001b[38;5;241;43m*\u001b[39;49m\u001b[43m(\u001b[49m\u001b[43mwrapped\u001b[49m\u001b[43m(\u001b[49m\u001b[38;5;241;43m*\u001b[39;49m\u001b[38;5;241;43m*\u001b[39;49m\u001b[43mkwargs\u001b[49m\u001b[43m)\u001b[49m\u001b[43m \u001b[49m\u001b[38;5;129;43;01mor\u001b[39;49;00m\u001b[43m \u001b[49m\u001b[43mkwargs\u001b[49m\u001b[43m)\u001b[49m\u001b[43m)\u001b[49m\n",
      "File \u001b[0;32m~/.local/lib/python3.9/site-packages/open_gopro/api/builders.py:257\u001b[0m, in \u001b[0;36mBleWriteCommand.__call__\u001b[0;34m(self, __communicator__, **kwargs)\u001b[0m\n\u001b[1;32m    255\u001b[0m     data\u001b[38;5;241m.\u001b[39mappend(\u001b[38;5;28mlen\u001b[39m(params))\n\u001b[1;32m    256\u001b[0m     data\u001b[38;5;241m.\u001b[39mextend(params)\n\u001b[0;32m--> 257\u001b[0m response \u001b[38;5;241m=\u001b[39m \u001b[43m__communicator__\u001b[49m\u001b[38;5;241;43m.\u001b[39;49m\u001b[43m_send_ble_message\u001b[49m\u001b[43m(\u001b[49m\n\u001b[1;32m    258\u001b[0m \u001b[43m    \u001b[49m\u001b[38;5;28;43mself\u001b[39;49m\u001b[38;5;241;43m.\u001b[39;49m\u001b[43m_uuid\u001b[49m\u001b[43m,\u001b[49m\u001b[43m \u001b[49m\u001b[43mdata\u001b[49m\u001b[43m,\u001b[49m\u001b[43m \u001b[49m\u001b[38;5;28;43mself\u001b[39;49m\u001b[38;5;241;43m.\u001b[39;49m\u001b[43m_identifier\u001b[49m\u001b[43m,\u001b[49m\u001b[43m \u001b[49m\u001b[43mrules\u001b[49m\u001b[38;5;241;43m=\u001b[39;49m\u001b[38;5;28;43mself\u001b[39;49m\u001b[38;5;241;43m.\u001b[39;49m\u001b[43m_evaluate_rules\u001b[49m\u001b[43m(\u001b[49m\u001b[38;5;241;43m*\u001b[39;49m\u001b[38;5;241;43m*\u001b[39;49m\u001b[43mkwargs\u001b[49m\u001b[43m)\u001b[49m\n\u001b[1;32m    259\u001b[0m \u001b[43m\u001b[49m\u001b[43m)\u001b[49m\n\u001b[1;32m    260\u001b[0m logger\u001b[38;5;241m.\u001b[39minfo(Logger\u001b[38;5;241m.\u001b[39mbuild_log_rx_str(response))\n\u001b[1;32m    261\u001b[0m \u001b[38;5;28;01mreturn\u001b[39;00m response\n",
      "File \u001b[0;32m~/.local/lib/python3.9/site-packages/open_gopro/gopro_base.py:89\u001b[0m, in \u001b[0;36mensure_opened.<locals>.wrapper\u001b[0;34m(wrapped, instance, args, kwargs)\u001b[0m\n\u001b[1;32m     87\u001b[0m \u001b[38;5;28;01mif\u001b[39;00m GoProMessageInterface\u001b[38;5;241m.\u001b[39mHTTP \u001b[38;5;129;01min\u001b[39;00m interface \u001b[38;5;129;01mand\u001b[39;00m \u001b[38;5;129;01mnot\u001b[39;00m instance\u001b[38;5;241m.\u001b[39mis_http_connected:\n\u001b[1;32m     88\u001b[0m     \u001b[38;5;28;01mraise\u001b[39;00m GpException\u001b[38;5;241m.\u001b[39mGoProNotOpened(\u001b[38;5;124m\"\u001b[39m\u001b[38;5;124mHTTP interface not connected\u001b[39m\u001b[38;5;124m\"\u001b[39m)\n\u001b[0;32m---> 89\u001b[0m \u001b[38;5;28;01mreturn\u001b[39;00m \u001b[43mwrapped\u001b[49m\u001b[43m(\u001b[49m\u001b[38;5;241;43m*\u001b[39;49m\u001b[43margs\u001b[49m\u001b[43m,\u001b[49m\u001b[43m \u001b[49m\u001b[38;5;241;43m*\u001b[39;49m\u001b[38;5;241;43m*\u001b[39;49m\u001b[43mkwargs\u001b[49m\u001b[43m)\u001b[49m\n",
      "File \u001b[0;32m~/.local/lib/python3.9/site-packages/open_gopro/gopro_wireless.py:68\u001b[0m, in \u001b[0;36menforce_message_rules\u001b[0;34m(wrapped, instance, args, kwargs)\u001b[0m\n\u001b[1;32m     66\u001b[0m     logger\u001b[38;5;241m.\u001b[39mtrace(\u001b[38;5;124mf\u001b[39m\u001b[38;5;124m\"\u001b[39m\u001b[38;5;132;01m{\u001b[39;00mwrapped\u001b[38;5;241m.\u001b[39m\u001b[38;5;18m__name__\u001b[39m\u001b[38;5;132;01m}\u001b[39;00m\u001b[38;5;124m has the lock\u001b[39m\u001b[38;5;124m\"\u001b[39m)  \u001b[38;5;66;03m# type: ignore\u001b[39;00m\n\u001b[1;32m     67\u001b[0m     have_lock \u001b[38;5;241m=\u001b[39m \u001b[38;5;28;01mTrue\u001b[39;00m\n\u001b[0;32m---> 68\u001b[0m     response \u001b[38;5;241m=\u001b[39m \u001b[43mwrapped\u001b[49m\u001b[43m(\u001b[49m\u001b[38;5;241;43m*\u001b[39;49m\u001b[43margs\u001b[49m\u001b[43m,\u001b[49m\u001b[43m \u001b[49m\u001b[38;5;241;43m*\u001b[39;49m\u001b[38;5;241;43m*\u001b[39;49m\u001b[43mkwargs\u001b[49m\u001b[43m)\u001b[49m\n\u001b[1;32m     69\u001b[0m \u001b[38;5;28;01melse\u001b[39;00m:  \u001b[38;5;66;03m# Either we're not maintaining state, we're not opened yet, or this is a fastpass message\u001b[39;00m\n\u001b[1;32m     70\u001b[0m     response \u001b[38;5;241m=\u001b[39m wrapped(\u001b[38;5;241m*\u001b[39margs, \u001b[38;5;241m*\u001b[39m\u001b[38;5;241m*\u001b[39mkwargs)\n",
      "File \u001b[0;32m~/.local/lib/python3.9/site-packages/open_gopro/gopro_wireless.py:600\u001b[0m, in \u001b[0;36mWirelessGoPro._send_ble_message\u001b[0;34m(self, uuid, data, response_id, **_)\u001b[0m\n\u001b[1;32m    598\u001b[0m \u001b[38;5;28;01mexcept\u001b[39;00m queue\u001b[38;5;241m.\u001b[39mEmpty \u001b[38;5;28;01mas\u001b[39;00m e:\n\u001b[1;32m    599\u001b[0m     logger\u001b[38;5;241m.\u001b[39merror(\u001b[38;5;124mf\u001b[39m\u001b[38;5;124m\"\u001b[39m\u001b[38;5;124mResponse timeout of \u001b[39m\u001b[38;5;132;01m{\u001b[39;00mWRITE_TIMEOUT\u001b[38;5;132;01m}\u001b[39;00m\u001b[38;5;124m seconds!\u001b[39m\u001b[38;5;124m\"\u001b[39m)\n\u001b[0;32m--> 600\u001b[0m     \u001b[38;5;28;01mraise\u001b[39;00m GpException\u001b[38;5;241m.\u001b[39mResponseTimeout(WRITE_TIMEOUT) \u001b[38;5;28;01mfrom\u001b[39;00m \u001b[38;5;21;01me\u001b[39;00m\n\u001b[1;32m    602\u001b[0m \u001b[38;5;66;03m# Check status\u001b[39;00m\n\u001b[1;32m    603\u001b[0m \u001b[38;5;28;01mif\u001b[39;00m \u001b[38;5;129;01mnot\u001b[39;00m response\u001b[38;5;241m.\u001b[39mis_ok:\n",
      "\u001b[0;31mResponseTimeout\u001b[0m: Response timeout occurred of 5 seconds"
     ]
    }
   ],
   "source": [
    "gopro.http_command"
   ]
  },
  {
   "cell_type": "code",
   "execution_count": null,
   "id": "85320057-eb88-4a78-8a1a-f547304c27ff",
   "metadata": {
    "tags": []
   },
   "outputs": [],
   "source": [
    "gopro.http_command.set_keep_alive()\n",
    "gopro.http_command.load_preset_group(group=Params.PresetGroup.PHOTO)\n",
    "gopro.http_setting.max_lens_mode.set(Params.MaxLensMode(1))\n",
    "gopro.http_setting.photo_horizon_leveling.set(Params.HorizonLeveling(2))\n",
    "gopro.http_setting.photo_field_of_view.set(Params.PhotoFOV(101))\n",
    "gopro.ble_command.set_shutter(Params.ExposureMode.AUTO, Params.Flatmode.SINGLE_PHOTO, shutter=Params.Toggle.ENABLE)"
   ]
  },
  {
   "cell_type": "code",
   "execution_count": 3,
   "id": "3b67953c-152f-4128-a833-37c019e9db71",
   "metadata": {},
   "outputs": [],
   "source": [
    "basepath = '/home/pi/autofs/data/gopro/'\n",
    "date = datetime.datetime.now()"
   ]
  },
  {
   "cell_type": "code",
   "execution_count": 31,
   "id": "aaf1e03c-80e7-437f-bd77-d9a5924779c6",
   "metadata": {},
   "outputs": [
    {
     "name": "stderr",
     "output_type": "stream",
     "text": [
      "WARNING:open_gopro.gopro_base:404 Client Error:  for url: http://10.5.5.9:8080/gopro/media/info?path=100GOPRO/GOPR0001.JPG\n"
     ]
    },
    {
     "ename": "KeyError",
     "evalue": "'cre'",
     "output_type": "error",
     "traceback": [
      "\u001b[0;31m---------------------------------------------------------------------------\u001b[0m",
      "\u001b[0;31mKeyError\u001b[0m                                  Traceback (most recent call last)",
      "Cell \u001b[0;32mIn[31], line 5\u001b[0m\n\u001b[1;32m      2\u001b[0m media_list \u001b[38;5;241m=\u001b[39m [x[\u001b[38;5;124m\"\u001b[39m\u001b[38;5;124mn\u001b[39m\u001b[38;5;124m\"\u001b[39m] \u001b[38;5;28;01mfor\u001b[39;00m x \u001b[38;5;129;01min\u001b[39;00m gopro\u001b[38;5;241m.\u001b[39mhttp_command\u001b[38;5;241m.\u001b[39mget_media_list()\u001b[38;5;241m.\u001b[39mflatten]\n\u001b[1;32m      3\u001b[0m \u001b[38;5;28;01mfor\u001b[39;00m f \u001b[38;5;129;01min\u001b[39;00m media_list:\n\u001b[1;32m      4\u001b[0m     \u001b[38;5;66;03m#print('Download ', f)\u001b[39;00m\n\u001b[0;32m----> 5\u001b[0m     epoch_file \u001b[38;5;241m=\u001b[39m \u001b[43mgopro\u001b[49m\u001b[38;5;241;43m.\u001b[39;49m\u001b[43mhttp_command\u001b[49m\u001b[38;5;241;43m.\u001b[39;49m\u001b[43mget_media_info\u001b[49m\u001b[43m(\u001b[49m\u001b[43mfile\u001b[49m\u001b[38;5;241;43m=\u001b[39;49m\u001b[43mf\u001b[49m\u001b[43m)\u001b[49m\u001b[38;5;241;43m.\u001b[39;49m\u001b[43mdata\u001b[49m\u001b[43m[\u001b[49m\u001b[38;5;124;43m'\u001b[39;49m\u001b[38;5;124;43mcre\u001b[39;49m\u001b[38;5;124;43m'\u001b[39;49m\u001b[43m]\u001b[49m\n\u001b[1;32m      6\u001b[0m     utc_file \u001b[38;5;241m=\u001b[39m datetime\u001b[38;5;241m.\u001b[39mdatetime\u001b[38;5;241m.\u001b[39mfromtimestamp(\u001b[38;5;28mint\u001b[39m(epoch_file))\n\u001b[1;32m      7\u001b[0m     tstr \u001b[38;5;241m=\u001b[39m utc_file\u001b[38;5;241m.\u001b[39mstrftime(\u001b[38;5;124m'\u001b[39m\u001b[38;5;124m%\u001b[39m\u001b[38;5;124mY\u001b[39m\u001b[38;5;124m%\u001b[39m\u001b[38;5;124mm\u001b[39m\u001b[38;5;132;01m%d\u001b[39;00m\u001b[38;5;124m-\u001b[39m\u001b[38;5;124m%\u001b[39m\u001b[38;5;124mH\u001b[39m\u001b[38;5;124m%\u001b[39m\u001b[38;5;124mM\u001b[39m\u001b[38;5;124m%\u001b[39m\u001b[38;5;124mS\u001b[39m\u001b[38;5;124m'\u001b[39m)\n",
      "\u001b[0;31mKeyError\u001b[0m: 'cre'"
     ]
    }
   ],
   "source": [
    "# Download and delete all of the files from the camera\n",
    "media_list = [x[\"n\"] for x in gopro.http_command.get_media_list().flatten]\n",
    "for f in media_list:\n",
    "    #print('Download ', f)\n",
    "    epoch_file = gopro.http_command.get_media_info(file=f).data['cre']\n",
    "    utc_file = datetime.datetime.fromtimestamp(int(epoch_file))\n",
    "    tstr = utc_file.strftime('%Y%m%d-%H%M%S')\n",
    "    lpath = basepath+'day/'+tstr[0:8]+'/'\n",
    "    if not os.path.exists(lpath):\n",
    "        os.makedirs(lpath)\n",
    "    lfile = lpath+tstr+'.JPG'\n",
    "    gopro.http_command.download_file(camera_file=f, local_file=lfile)\n",
    "    filename=tstr+'.JPG'\n",
    "    splitup = filename.split(\"-\")\n",
    "    date = splitup[0]\n",
    "    t = splitup[1][0:4]\n",
    "    tformatted = t[0:2] + \":\" + t[2:4]\n",
    "    img = Image.open(lfile)\n",
    "    draw = ImageDraw.Draw(img)\n",
    "    draw.text((img.width-220,img.height-150), date, fontcolor, font=fontsmall)\n",
    "    draw.text((img.width-220,img.height-120), tformatted, fontcolor, font=font)\n",
    "    img.save(lfile)\n",
    "\n",
    "    #print('Delete ', f)\n",
    "    url = \"http://\"+ip+\":8080/gp/gpControl/command/storage/delete?p=\" + \"/100GOPRO/\" + f\n",
    "    with requests.get(url) as request:\n",
    "        request.raise_for_status()"
   ]
  },
  {
   "cell_type": "code",
   "execution_count": 30,
   "id": "33b2d7cf-aa12-4a5f-8578-e1c9b76ebfef",
   "metadata": {
    "tags": []
   },
   "outputs": [],
   "source": [
    "media_list = [x[\"n\"] for x in gopro.http_command.get_media_list().flatten]"
   ]
  },
  {
   "cell_type": "code",
   "execution_count": 25,
   "id": "f73efc7e-5fac-465f-b297-45575959677b",
   "metadata": {
    "tags": []
   },
   "outputs": [
    {
     "ename": "SyntaxError",
     "evalue": "invalid syntax (3099832412.py, line 2)",
     "output_type": "error",
     "traceback": [
      "\u001b[0;36m  Cell \u001b[0;32mIn[25], line 2\u001b[0;36m\u001b[0m\n\u001b[0;31m    gopro.http_command.(camera_file=f,endpoint=ip+':8080')\u001b[0m\n\u001b[0m                       ^\u001b[0m\n\u001b[0;31mSyntaxError\u001b[0m\u001b[0;31m:\u001b[0m invalid syntax\n"
     ]
    }
   ],
   "source": [
    "for f in media_list:\n",
    "    gopro.ble_status.batt_level()\n",
    "    #url = \"http://\"+ip+\":8080/gp/gpControl/command/storage/delete?p=\" + \"/100GOPRO/\" + f\n",
    "    #with requests.get(url) as request:\n",
    "    #    request.raise_for_status()"
   ]
  },
  {
   "cell_type": "code",
   "execution_count": 27,
   "id": "b0a82371-f196-4933-9713-a687877fd2a3",
   "metadata": {
    "tags": []
   },
   "outputs": [
    {
     "ename": "KeyboardInterrupt",
     "evalue": "",
     "output_type": "error",
     "traceback": [
      "\u001b[0;31m---------------------------------------------------------------------------\u001b[0m",
      "\u001b[0;31mKeyboardInterrupt\u001b[0m                         Traceback (most recent call last)",
      "Cell \u001b[0;32mIn[27], line 1\u001b[0m\n\u001b[0;32m----> 1\u001b[0m \u001b[43mgopro\u001b[49m\u001b[38;5;241;43m.\u001b[39;49m\u001b[43mhttp_command\u001b[49m\u001b[38;5;241;43m.\u001b[39;49m\u001b[43mwebcam_start\u001b[49m\u001b[43m(\u001b[49m\u001b[43m)\u001b[49m\n",
      "File \u001b[0;32m~/.local/lib/python3.9/site-packages/open_gopro/api/builders.py:1024\u001b[0m, in \u001b[0;36mhttp_get_json_command.<locals>.wrapper\u001b[0;34m(wrapped, instance, _, kwargs)\u001b[0m\n\u001b[1;32m   1022\u001b[0m \u001b[38;5;129m@wrapt\u001b[39m\u001b[38;5;241m.\u001b[39mdecorator\n\u001b[1;32m   1023\u001b[0m \u001b[38;5;28;01mdef\u001b[39;00m \u001b[38;5;21mwrapper\u001b[39m(wrapped: Callable, instance: HttpMessages, _: Any, kwargs: Any) \u001b[38;5;241m-\u001b[39m\u001b[38;5;241m>\u001b[39m GoProResp:\n\u001b[0;32m-> 1024\u001b[0m     \u001b[38;5;28;01mreturn\u001b[39;00m \u001b[43mmessage\u001b[49m\u001b[43m(\u001b[49m\n\u001b[1;32m   1025\u001b[0m \u001b[43m        \u001b[49m\u001b[43minstance\u001b[49m\u001b[38;5;241;43m.\u001b[39;49m\u001b[43m_communicator\u001b[49m\u001b[43m,\u001b[49m\u001b[43m \u001b[49m\u001b[43mmessage\u001b[49m\u001b[38;5;241;43m.\u001b[39;49m\u001b[43m_evaluate_rules\u001b[49m\u001b[43m(\u001b[49m\u001b[38;5;241;43m*\u001b[39;49m\u001b[38;5;241;43m*\u001b[39;49m\u001b[43mkwargs\u001b[49m\u001b[43m)\u001b[49m\u001b[43m,\u001b[49m\u001b[43m \u001b[49m\u001b[38;5;241;43m*\u001b[39;49m\u001b[38;5;241;43m*\u001b[39;49m\u001b[43m(\u001b[49m\u001b[43mwrapped\u001b[49m\u001b[43m(\u001b[49m\u001b[38;5;241;43m*\u001b[39;49m\u001b[38;5;241;43m*\u001b[39;49m\u001b[43mkwargs\u001b[49m\u001b[43m)\u001b[49m\u001b[43m \u001b[49m\u001b[38;5;129;43;01mor\u001b[39;49;00m\u001b[43m \u001b[49m\u001b[43mkwargs\u001b[49m\u001b[43m)\u001b[49m\n\u001b[1;32m   1026\u001b[0m \u001b[43m    \u001b[49m\u001b[43m)\u001b[49m\n",
      "File \u001b[0;32m~/.local/lib/python3.9/site-packages/open_gopro/api/builders.py:957\u001b[0m, in \u001b[0;36mHttpGetJsonCommand.__call__\u001b[0;34m(self, __communicator__, rules, **kwargs)\u001b[0m\n\u001b[1;32m    955\u001b[0m \u001b[38;5;66;03m# Send to camera\u001b[39;00m\n\u001b[1;32m    956\u001b[0m logger\u001b[38;5;241m.\u001b[39minfo(Logger\u001b[38;5;241m.\u001b[39mbuild_log_tx_str(jsonify(\u001b[38;5;28mself\u001b[39m\u001b[38;5;241m.\u001b[39m_as_dict(\u001b[38;5;241m*\u001b[39m\u001b[38;5;241m*\u001b[39mkwargs, endpoint\u001b[38;5;241m=\u001b[39murl))))\n\u001b[0;32m--> 957\u001b[0m response \u001b[38;5;241m=\u001b[39m \u001b[43m__communicator__\u001b[49m\u001b[38;5;241;43m.\u001b[39;49m\u001b[43m_get\u001b[49m\u001b[43m(\u001b[49m\u001b[43murl\u001b[49m\u001b[43m,\u001b[49m\u001b[43m \u001b[49m\u001b[38;5;28;43mself\u001b[39;49m\u001b[38;5;241;43m.\u001b[39;49m\u001b[43m_parser\u001b[49m\u001b[43m,\u001b[49m\u001b[43m \u001b[49m\u001b[43mrules\u001b[49m\u001b[38;5;241;43m=\u001b[39;49m\u001b[43mrules\u001b[49m\u001b[43m)\u001b[49m\n\u001b[1;32m    958\u001b[0m response\u001b[38;5;241m.\u001b[39m_meta\u001b[38;5;241m.\u001b[39mappend(\u001b[38;5;28mself\u001b[39m\u001b[38;5;241m.\u001b[39m_identifier)\n\u001b[1;32m    959\u001b[0m logger\u001b[38;5;241m.\u001b[39minfo(Logger\u001b[38;5;241m.\u001b[39mbuild_log_rx_str(response))\n",
      "File \u001b[0;32m~/.local/lib/python3.9/site-packages/open_gopro/gopro_wireless.py:65\u001b[0m, in \u001b[0;36menforce_message_rules\u001b[0;34m(wrapped, instance, args, kwargs)\u001b[0m\n\u001b[1;32m     63\u001b[0m \u001b[38;5;28;01mif\u001b[39;00m instance\u001b[38;5;241m.\u001b[39m_should_maintain_state \u001b[38;5;129;01mand\u001b[39;00m instance\u001b[38;5;241m.\u001b[39mis_open \u001b[38;5;129;01mand\u001b[39;00m \u001b[38;5;129;01mnot\u001b[39;00m MessageRules\u001b[38;5;241m.\u001b[39mFASTPASS \u001b[38;5;129;01min\u001b[39;00m rules:\n\u001b[1;32m     64\u001b[0m     logger\u001b[38;5;241m.\u001b[39mtrace(\u001b[38;5;124mf\u001b[39m\u001b[38;5;124m\"\u001b[39m\u001b[38;5;132;01m{\u001b[39;00mwrapped\u001b[38;5;241m.\u001b[39m\u001b[38;5;18m__name__\u001b[39m\u001b[38;5;132;01m}\u001b[39;00m\u001b[38;5;124m acquiring lock\u001b[39m\u001b[38;5;124m\"\u001b[39m)  \u001b[38;5;66;03m# type: ignore\u001b[39;00m\n\u001b[0;32m---> 65\u001b[0m     \u001b[43minstance\u001b[49m\u001b[38;5;241;43m.\u001b[39;49m\u001b[43m_ready\u001b[49m\u001b[38;5;241;43m.\u001b[39;49m\u001b[43macquire\u001b[49m\u001b[43m(\u001b[49m\u001b[43m)\u001b[49m\n\u001b[1;32m     66\u001b[0m     logger\u001b[38;5;241m.\u001b[39mtrace(\u001b[38;5;124mf\u001b[39m\u001b[38;5;124m\"\u001b[39m\u001b[38;5;132;01m{\u001b[39;00mwrapped\u001b[38;5;241m.\u001b[39m\u001b[38;5;18m__name__\u001b[39m\u001b[38;5;132;01m}\u001b[39;00m\u001b[38;5;124m has the lock\u001b[39m\u001b[38;5;124m\"\u001b[39m)  \u001b[38;5;66;03m# type: ignore\u001b[39;00m\n\u001b[1;32m     67\u001b[0m     have_lock \u001b[38;5;241m=\u001b[39m \u001b[38;5;28;01mTrue\u001b[39;00m\n",
      "\u001b[0;31mKeyboardInterrupt\u001b[0m: "
     ]
    }
   ],
   "source": [
    "gopro.http_command.webcam_start()"
   ]
  },
  {
   "cell_type": "code",
   "execution_count": null,
   "id": "c0897255-a39c-4144-8820-2a0be09a0441",
   "metadata": {},
   "outputs": [],
   "source": []
  },
  {
   "cell_type": "code",
   "execution_count": null,
   "id": "ac1ef85d-1365-4525-82cb-751489645ad8",
   "metadata": {},
   "outputs": [],
   "source": []
  }
 ],
 "metadata": {
  "kernelspec": {
   "display_name": "Python 3 (ipykernel)",
   "language": "python",
   "name": "python3"
  },
  "language_info": {
   "codemirror_mode": {
    "name": "ipython",
    "version": 3
   },
   "file_extension": ".py",
   "mimetype": "text/x-python",
   "name": "python",
   "nbconvert_exporter": "python",
   "pygments_lexer": "ipython3",
   "version": "3.9.2"
  }
 },
 "nbformat": 4,
 "nbformat_minor": 5
}
