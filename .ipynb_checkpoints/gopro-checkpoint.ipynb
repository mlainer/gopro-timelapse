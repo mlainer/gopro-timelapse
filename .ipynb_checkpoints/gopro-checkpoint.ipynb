{
 "cells": [
  {
   "cell_type": "code",
   "execution_count": 7,
   "id": "3ddd7532-17f0-4b46-8f97-eafcb2b6267e",
   "metadata": {
    "tags": []
   },
   "outputs": [],
   "source": []
  },
  {
   "cell_type": "code",
   "execution_count": 5,
   "id": "afc7c54f-ff40-424c-9bcd-6c4e4421b554",
   "metadata": {
    "tags": []
   },
   "outputs": [],
   "source": [
    "import time\n",
    "from open_gopro import WiredGoPro, Params\n",
    "import os\n",
    "import requests\n",
    "import numpy as np\n",
    "import datetime\n",
    "from datetime import timezone\n",
    "from astral.sun import sun\n",
    "from astral import LocationInfo\n",
    "import pytz\n",
    "import json\n",
    "import re\n",
    "import signal\n",
    "\n",
    "def utc_to_local(utc_dt):\n",
    "    return utc_dt.replace(tzinfo=timezone.utc).astimezone(tz=None)\n",
    "\n",
    "def is_dst(dt=None, timezone='CET'):\n",
    "    \"\"\"Is daylight savings in effect?\"\"\"\n",
    "    if dt is None:\n",
    "        dt = datetime.datetime.utcnow()\n",
    "    timezone = pytz.timezone(timezone)\n",
    "    timezone_aware_date = timezone.localize(dt, is_dst=None)\n",
    "    return timezone_aware_date.tzinfo._dst.seconds != 0\n",
    "\n",
    "def sunrise_sunset(date):\n",
    "    \"\"\"Get the sunrise and sunset times adjusted for DST.\"\"\"\n",
    "    # 'date' is taken at midnight, but daylight savings starts/ends at 1am/2am\n",
    "    # so move the time to midday to be accurate\n",
    "    #tdelta = datetime.timedelta(hours=12)\n",
    "    #date = date + tdelta\n",
    "    # Get the unadjusted sunrise and sunset times\n",
    "    city = LocationInfo(\n",
    "        'Locarno', 'Switzerland', 'Europe/London', 46.17123, 8.79050\n",
    "    )\n",
    "    s = sun(city.observer, date=date)\n",
    "    sunrise = s['sunrise']\n",
    "    sunset = s['sunset']\n",
    "    # Initialise a time zone\n",
    "    timezone = 'CET'\n",
    "    # Is daylight savings in effect?\n",
    "    if is_dst(date, timezone='Europe/London'):\n",
    "        tdelta = datetime.timedelta(hours=1)\n",
    "        sunrise = sunrise - tdelta\n",
    "        sunset = sunset + tdelta\n",
    "        timezone = 'CET'\n",
    "    # To be conservative, round the time up to the nearest minute\n",
    "    if sunrise.second > 0:\n",
    "        sunrise = sunrise + datetime.timedelta(minutes=1)\n",
    "    if sunrise.second > 13:\n",
    "        sunset = sunset + datetime.timedelta(minutes=1)\n",
    "    return utc_to_local(sunrise), utc_to_local(sunset)\n",
    "\n",
    "class SignalHandler:\n",
    "    shutdown_requested = False\n",
    "\n",
    "    def __init__(self):\n",
    "        signal.signal(signal.SIGINT, self.request_shutdown)\n",
    "        signal.signal(signal.SIGTERM, self.request_shutdown)\n",
    "\n",
    "    def request_shutdown(self, *args):\n",
    "        print('Request to shutdown received, stopping')\n",
    "        self.shutdown_requested = True\n",
    "\n",
    "    def can_run(self):\n",
    "        return not self.shutdown_requested"
   ]
  },
  {
   "cell_type": "code",
   "execution_count": 4,
   "id": "b7231089-5f68-4c09-a6aa-ee17ae086aa2",
   "metadata": {
    "tags": []
   },
   "outputs": [
    {
     "ename": "KeyboardInterrupt",
     "evalue": "",
     "output_type": "error",
     "traceback": [
      "\u001b[0;31m---------------------------------------------------------------------------\u001b[0m",
      "\u001b[0;31mKeyboardInterrupt\u001b[0m                         Traceback (most recent call last)",
      "Cell \u001b[0;32mIn[4], line 1\u001b[0m\n\u001b[0;32m----> 1\u001b[0m \u001b[38;5;28;01mwith\u001b[39;00m WiredGoPro(serial\u001b[38;5;241m=\u001b[39m\u001b[38;5;124m'\u001b[39m\u001b[38;5;124mC3471325923859\u001b[39m\u001b[38;5;124m'\u001b[39m) \u001b[38;5;28;01mas\u001b[39;00m gopro:\n\u001b[1;32m      2\u001b[0m     gopro\u001b[38;5;241m.\u001b[39mhttp_command\u001b[38;5;241m.\u001b[39mset_keep_alive()\n\u001b[1;32m      3\u001b[0m     gopro\u001b[38;5;241m.\u001b[39mhttp_command\u001b[38;5;241m.\u001b[39mload_preset_group(group\u001b[38;5;241m=\u001b[39mParams\u001b[38;5;241m.\u001b[39mPresetGroup\u001b[38;5;241m.\u001b[39mPHOTO)\n",
      "File \u001b[0;32m~/.local/lib/python3.9/site-packages/open_gopro/gopro_base.py:103\u001b[0m, in \u001b[0;36mGoProBase.__enter__\u001b[0;34m(self)\u001b[0m\n\u001b[1;32m    102\u001b[0m \u001b[38;5;28;01mdef\u001b[39;00m \u001b[38;5;21m__enter__\u001b[39m(\u001b[38;5;28mself\u001b[39m: GoPro) \u001b[38;5;241m-\u001b[39m\u001b[38;5;241m>\u001b[39m GoPro:\n\u001b[0;32m--> 103\u001b[0m     \u001b[38;5;28;43mself\u001b[39;49m\u001b[38;5;241;43m.\u001b[39;49m\u001b[43mopen\u001b[49m\u001b[43m(\u001b[49m\u001b[43m)\u001b[49m\n\u001b[1;32m    104\u001b[0m     \u001b[38;5;28;01mreturn\u001b[39;00m \u001b[38;5;28mself\u001b[39m\n",
      "File \u001b[0;32m~/.local/lib/python3.9/site-packages/open_gopro/gopro_wired.py:142\u001b[0m, in \u001b[0;36mWiredGoPro.open\u001b[0;34m(self, timeout, retries)\u001b[0m\n\u001b[1;32m    139\u001b[0m logger\u001b[38;5;241m.\u001b[39minfo(\u001b[38;5;124mf\u001b[39m\u001b[38;5;124m\"\u001b[39m\u001b[38;5;124mUsing Open GoPro API version \u001b[39m\u001b[38;5;132;01m{\u001b[39;00mversion\u001b[38;5;132;01m}\u001b[39;00m\u001b[38;5;124m\"\u001b[39m)\n\u001b[1;32m    141\u001b[0m \u001b[38;5;66;03m# Wait for initial ready state\u001b[39;00m\n\u001b[0;32m--> 142\u001b[0m \u001b[38;5;28;43mself\u001b[39;49m\u001b[38;5;241;43m.\u001b[39;49m\u001b[43m_wait_for_state\u001b[49m\u001b[43m(\u001b[49m\u001b[43m{\u001b[49m\u001b[43mStatusId\u001b[49m\u001b[38;5;241;43m.\u001b[39;49m\u001b[43mENCODING\u001b[49m\u001b[43m:\u001b[49m\u001b[43m \u001b[49m\u001b[38;5;28;43;01mFalse\u001b[39;49;00m\u001b[43m,\u001b[49m\u001b[43m \u001b[49m\u001b[43mStatusId\u001b[49m\u001b[38;5;241;43m.\u001b[39;49m\u001b[43mSYSTEM_BUSY\u001b[49m\u001b[43m:\u001b[49m\u001b[43m \u001b[49m\u001b[38;5;28;43;01mFalse\u001b[39;49;00m\u001b[43m}\u001b[49m\u001b[43m)\u001b[49m\n\u001b[1;32m    144\u001b[0m \u001b[38;5;28mself\u001b[39m\u001b[38;5;241m.\u001b[39m_open \u001b[38;5;241m=\u001b[39m \u001b[38;5;28;01mTrue\u001b[39;00m\n",
      "File \u001b[0;32m~/.local/lib/python3.9/site-packages/open_gopro/gopro_wired.py:332\u001b[0m, in \u001b[0;36mWiredGoPro._wait_for_state\u001b[0;34m(self, check, poll_period)\u001b[0m\n\u001b[1;32m    330\u001b[0m \u001b[38;5;28;01mfor\u001b[39;00m key, value \u001b[38;5;129;01min\u001b[39;00m check\u001b[38;5;241m.\u001b[39mitems():\n\u001b[1;32m    331\u001b[0m     \u001b[38;5;28;01mif\u001b[39;00m state[key] \u001b[38;5;241m!=\u001b[39m value:\n\u001b[0;32m--> 332\u001b[0m         \u001b[43mtime\u001b[49m\u001b[38;5;241;43m.\u001b[39;49m\u001b[43msleep\u001b[49m\u001b[43m(\u001b[49m\u001b[43mpoll_period\u001b[49m\u001b[43m)\u001b[49m\n\u001b[1;32m    333\u001b[0m         \u001b[38;5;28;01mbreak\u001b[39;00m  \u001b[38;5;66;03m# Get new state and try again\u001b[39;00m\n\u001b[1;32m    334\u001b[0m \u001b[38;5;28;01melse\u001b[39;00m:\n",
      "\u001b[0;31mKeyboardInterrupt\u001b[0m: "
     ]
    }
   ],
   "source": [
    "with WiredGoPro(serial='C3471325923859') as gopro:\n",
    "    gopro.http_command.set_keep_alive()\n",
    "    gopro.http_command.load_preset_group(group=Params.PresetGroup.PHOTO)\n",
    "    gopro.http_setting.max_lens_mode.set(Params.MaxLensMode(1))\n",
    "    gopro.http_setting.photo_horizon_leveling.set(Params.HorizonLeveling(2))\n",
    "    gopro.http_setting.photo_field_of_view.set(Params.PhotoFOV(101))\n",
    "    gopro.http_setting.auto_off.set(Params.AutoOff(0)) #Never do auto off the camera\n",
    "    gopro.http_command.webcam_start(Params.WebcamFOV.WIDE, Params.WebcamResolution.RES_1080)"
   ]
  },
  {
   "cell_type": "code",
   "execution_count": null,
   "id": "d9d788a6-d367-4e3b-9dfc-d7d16c24189e",
   "metadata": {
    "tags": []
   },
   "outputs": [],
   "source": [
    "with WiredGoPro(serial='C3471325923859') as gopro:\n",
    "    gopro.http_command.webcam_stop()"
   ]
  },
  {
   "cell_type": "code",
   "execution_count": null,
   "id": "caefc94b-210b-42ba-baba-9170fe1c5c25",
   "metadata": {},
   "outputs": [],
   "source": []
  },
  {
   "cell_type": "code",
   "execution_count": null,
   "id": "140e989d-fb4c-4094-92ba-ac55aa31bfda",
   "metadata": {},
   "outputs": [],
   "source": []
  },
  {
   "cell_type": "code",
   "execution_count": null,
   "id": "d0613e79-a736-4191-8b5c-be581ddb6b7a",
   "metadata": {},
   "outputs": [],
   "source": []
  },
  {
   "cell_type": "code",
   "execution_count": 7,
   "id": "1c7834f1-cccd-4325-8322-6102977b5481",
   "metadata": {
    "tags": []
   },
   "outputs": [
    {
     "name": "stdout",
     "output_type": "stream",
     "text": [
      "Start capturing daytime photos.\n",
      "Download  GOPR0306.JPG\n",
      "Delete  GOPR0306.JPG\n",
      "Start capturing daytime photos.\n",
      "Download  GOPR0307.JPG\n",
      "Delete  GOPR0307.JPG\n",
      "Request to shutdown received, stopping\n"
     ]
    }
   ],
   "source": [
    "signal_handler = SignalHandler()\n",
    "\n",
    "while signal_handler.can_run():\n",
    "    basepath = '/home/pi/autofs/data/gopro/'\n",
    "    date = datetime.datetime.now()\n",
    "    sunrise, sunset = sunrise_sunset(date)\n",
    "    sunrise = sunrise.replace(tzinfo=None)\n",
    "    sunset = sunset.replace(tzinfo=None)\n",
    "\n",
    "    if sunrise <= date <= sunset:\n",
    "        #print('Start capturing daytime photos.')\n",
    "        try:\n",
    "            with WiredGoPro(serial='C3471325923859') as gopro:\n",
    "                gopro.http_command.set_keep_alive()\n",
    "                gopro.http_command.load_preset_group(group=Params.PresetGroup.PHOTO)\n",
    "                gopro.http_setting.max_lens_mode.set(Params.MaxLensMode(1))\n",
    "                gopro.http_setting.photo_horizon_leveling.set(Params.HorizonLeveling(2))\n",
    "                gopro.http_setting.photo_field_of_view.set(Params.PhotoFOV(101))\n",
    "                gopro.http_setting.auto_off.set(Params.AutoOff(0)) #Never do auto off the camera\n",
    "                #Take photo\n",
    "                gopro.http_command.set_shutter(Params.ExposureMode.AUTO, Params.Flatmode.SINGLE_PHOTO, shutter=Params.Toggle.ENABLE)\n",
    "\n",
    "                # Download and delete all of the files from the camera\n",
    "                media_list = [x[\"n\"] for x in gopro.http_command.get_media_list().flatten]\n",
    "                for f in media_list:\n",
    "                    #print('Download ', f)\n",
    "                    epoch_file = gopro.http_command.get_media_info(file=f).data['cre']\n",
    "                    utc_file = datetime.datetime.fromtimestamp(int(epoch_file))\n",
    "                    tstr = utc_file.strftime('%Y%m%d-%H%M%S')\n",
    "                    lpath = basepath+'day/'+tstr[0:8]+'/'\n",
    "                    if not os.path.exists(lpath):\n",
    "                        os.makedirs(lpath)\n",
    "                    lfile = lpath+tstr+'.JPG'\n",
    "\n",
    "                    gopro.http_command.download_file(camera_file=f, local_file=lfile)\n",
    "\n",
    "                    #print('Delete ', f)\n",
    "                    url = \"http://172.28.159.51:8080/gp/gpControl/command/storage/delete?p=\" + \"/100GOPRO/\" + f\n",
    "                    with requests.get(url) as request:\n",
    "                        request.raise_for_status()\n",
    "\n",
    "            time.sleep(5) #Processing break\n",
    "        \n",
    "        except:\n",
    "            time.sleep(30)\n",
    "            pass\n",
    "\n",
    "    else:\n",
    "        #During night take night photos? Startrails maybe? Or sleep??\n",
    "        #print(\"Taking night photos.\")\n",
    "        try:\n",
    "            with WiredGoPro(serial='C3471325923859') as gopro:\n",
    "                gopro.http_setting.auto_off.set(Params.AutoOff(0)) #Never do auto off the camera\n",
    "                gopro.http_command.set_keep_alive()\n",
    "                gopro.http_command.load_preset_group(group=Params.PresetGroup.PHOTO)\n",
    "                gopro.http_setting.max_lens_mode.set(Params.MaxLensMode(1))\n",
    "                gopro.http_command.set_shutter(Params.ExposureMode.AUTO, Params.Flatmode.NIGHT_PHOTO, shutter=Params.Toggle.ENABLE)\n",
    "                \n",
    "                # Download and delete all of the files from the camera\n",
    "                media_list = [x[\"n\"] for x in gopro.http_command.get_media_list().flatten]\n",
    "                for f in media_list:\n",
    "                    #print('Download ', f)\n",
    "                    epoch_file = gopro.http_command.get_media_info(file=f).data['cre']\n",
    "                    utc_file = datetime.datetime.fromtimestamp(int(epoch_file))\n",
    "                    tstr = utc_file.strftime('%Y%m%d-%H%M%S')\n",
    "                    lpath = basepath+'night/'+tstr[0:8]+'/'\n",
    "                    if not os.path.exists(lpath):\n",
    "                        os.makedirs(lpath)\n",
    "                    lfile = lpath+tstr+'.JPG'\n",
    "\n",
    "                    gopro.http_command.download_file(camera_file=f, local_file=lfile)\n",
    "\n",
    "                    #print('Delete ', f)\n",
    "                    url = \"http://172.28.159.51:8080/gp/gpControl/command/storage/delete?p=\" + \"/100GOPRO/\" + f\n",
    "                    with requests.get(url) as request:\n",
    "                        request.raise_for_status()\n",
    "                \n",
    "            time.sleep(5)\n",
    "                \n",
    "        except:\n",
    "            time.sleep(30)\n",
    "            pass"
   ]
  },
  {
   "cell_type": "code",
   "execution_count": 24,
   "id": "f4062e3e-aec2-4cf8-abbc-0e4dd470818c",
   "metadata": {
    "tags": []
   },
   "outputs": [],
   "source": [
    "gopro.close()"
   ]
  },
  {
   "cell_type": "code",
   "execution_count": 20,
   "id": "c8b303b0-fa80-4a2e-bdbb-94ea99966c64",
   "metadata": {
    "tags": []
   },
   "outputs": [],
   "source": [
    "with WiredGoPro(serial='C3471325923859') as gopro:\n",
    "    time.sleep(1)\n",
    "    gopro.http_setting.auto_off.set(Params.AutoOff(0)) #Never do auto off the camera\n",
    "    gopro.http_command.set_keep_alive()\n",
    "    gopro.http_command.load_preset_group(group=Params.PresetGroup.PHOTO)\n",
    "    gopro.http_setting.max_lens_mode.set(Params.MaxLensMode(1))\n",
    "    gopro.http_command.set_shutter(Params.ExposureMode.AUTO, Params.Flatmode.NIGHT_PHOTO, shutter=Params.Toggle.ENABLE)"
   ]
  },
  {
   "cell_type": "code",
   "execution_count": 23,
   "id": "54bc4b0a-2367-4383-ab8c-d72cb3db1947",
   "metadata": {
    "tags": []
   },
   "outputs": [
    {
     "name": "stdout",
     "output_type": "stream",
     "text": [
      "Download  GOPR0308.JPG\n",
      "Delete  GOPR0308.JPG\n",
      "Download  GOPR0309.JPG\n",
      "Delete  GOPR0309.JPG\n",
      "Download  GOPR0310.JPG\n",
      "Delete  GOPR0310.JPG\n",
      "Download  GOPR0311.JPG\n",
      "Delete  GOPR0311.JPG\n",
      "Download  GOPR0312.JPG\n",
      "Delete  GOPR0312.JPG\n"
     ]
    }
   ],
   "source": [
    "# Download and delete all of the files from the camera\n",
    "with WiredGoPro(serial='C3471325923859') as gopro:\n",
    "    media_list = [x[\"n\"] for x in gopro.http_command.get_media_list().flatten]\n",
    "    for f in media_list:\n",
    "        print('Download ', f)\n",
    "        epoch_file = gopro.http_command.get_media_info(file=f).data['cre']\n",
    "        utc_file = datetime.datetime.fromtimestamp(int(epoch_file))\n",
    "        tstr = utc_file.strftime('%Y%m%d-%H%M%S')\n",
    "        lpath = '/home/martin/container/autofs/data/gopro/'+tstr[0:8]+'/'\n",
    "        if not os.path.exists(lpath):\n",
    "            os.makedirs(lpath)\n",
    "        lfile = lpath+tstr+'.JPG'\n",
    "        \n",
    "        gopro.http_command.download_file(camera_file=f, local_file=lfile)\n",
    "        \n",
    "        print('Delete ', f)\n",
    "        url = \"http://172.28.159.51:8080/gp/gpControl/command/storage/delete?p=\" + \"/100GOPRO/\" + f\n",
    "        with requests.get(url) as request:\n",
    "            request.raise_for_status()"
   ]
  },
  {
   "cell_type": "code",
   "execution_count": 32,
   "id": "b92d7b95-8357-49f7-945c-adc829af6d59",
   "metadata": {
    "tags": []
   },
   "outputs": [
    {
     "name": "stderr",
     "output_type": "stream",
     "text": [
      "Input #0, image2, from '/home/martin/container/autofs/data/gopro/20230415/*.JPG':\n",
      "  Duration: 00:00:17.87, start: 0.000000, bitrate: N/A\n",
      "    Stream #0:0: Video: mjpeg (Baseline), yuvj422p(pc, bt470bg/unknown/unknown), 3504x2624, 15 tbr, 15 tbn, 15 tbc\n",
      "[Parsed_drawtext_3 @ 0x557413672a80] Using \"/usr/share/fonts/truetype/dejavu/DejaVuSans.ttf\"\n",
      "[Parsed_drawtext_4 @ 0x5574136ccb80] Using \"/usr/share/fonts/truetype/dejavu/DejaVuSans.ttf\"\n",
      "Stream mapping:\n",
      "  Stream #0:0 (mjpeg) -> deflicker\n",
      "  split:output0 -> Stream #0:0 (libx264)\n",
      "  scale -> Stream #1:0 (libx264)\n",
      "Press [q] to stop, [?] for help\n",
      "[Parsed_drawtext_3 @ 0x55741368b480] Using \"/usr/share/fonts/truetype/dejavu/DejaVuSans.ttf\"\n",
      "[Parsed_drawtext_4 @ 0x5574136bea40] Using \"/usr/share/fonts/truetype/dejavu/DejaVuSans.ttf\"\n",
      "[swscaler @ 0x557413ad4280] deprecated pixel format used, make sure you did set range correctly\n",
      "[libx264 @ 0x55741367d600] using cpu capabilities: MMX2 SSE2Fast SSSE3 SSE4.2 AVX FMA3 BMI2 AVX2\n",
      "[libx264 @ 0x55741367d600] profile High, level 5.0\n",
      "[libx264 @ 0x55741367d600] 264 - core 155 r2917 0a84d98 - H.264/MPEG-4 AVC codec - Copyleft 2003-2018 - http://www.videolan.org/x264.html - options: cabac=1 ref=8 deblock=1:0:0 analyse=0x3:0x133 me=umh subme=9 psy=1 psy_rd=1.00:0.00 mixed_ref=1 me_range=16 chroma_me=1 trellis=2 8x8dct=1 cqm=0 deadzone=21,11 fast_pskip=1 chroma_qp_offset=-2 threads=9 lookahead_threads=1 sliced_threads=0 nr=0 decimate=1 interlaced=0 bluray_compat=0 constrained_intra=0 bframes=3 b_pyramid=2 b_adapt=2 b_bias=0 direct=3 weightb=1 open_gop=0 weightp=2 keyint=250 keyint_min=15 scenecut=40 intra_refresh=0 rc_lookahead=60 rc=crf mbtree=1 crf=20.0 qcomp=0.60 qpmin=0 qpmax=69 qpstep=4 ip_ratio=1.40 aq=1:1.00\n",
      "Output #0, mp4, to '20230415_test_movie.mp4':\n",
      "  Metadata:\n",
      "    encoder         : Lavf58.29.100\n",
      "    Stream #0:0: Video: h264 (libx264) (avc1 / 0x31637661), yuv420p, 1920x1438, q=-1--1, 15 fps, 15360 tbn, 15 tbc\n",
      "    Metadata:\n",
      "      encoder         : Lavc58.54.100 libx264\n",
      "    Side data:\n",
      "      cpb: bitrate max/min/avg: 0/0/0 buffer size: 0 vbv_delay: -1\n",
      "[libx264 @ 0x5574136713c0] height not divisible by 2 (960x719)\n",
      "Error initializing output stream 1:0 -- Error while opening encoder for output stream #1:0 - maybe incorrect parameters such as bit_rate, rate, width or height\n",
      "Conversion failed!\n"
     ]
    },
    {
     "ename": "Error",
     "evalue": "ffmpeg error (see stderr output for detail)",
     "output_type": "error",
     "traceback": [
      "\u001b[0;31m---------------------------------------------------------------------------\u001b[0m",
      "\u001b[0;31mError\u001b[0m                                     Traceback (most recent call last)",
      "Cell \u001b[0;32mIn[32], line 4\u001b[0m\n\u001b[1;32m      1\u001b[0m \u001b[38;5;28;01mfrom\u001b[39;00m \u001b[38;5;21;01mtime_lapse\u001b[39;00m \u001b[38;5;28;01mimport\u001b[39;00m output, source\n\u001b[1;32m      3\u001b[0m source_input \u001b[38;5;241m=\u001b[39m source\u001b[38;5;241m.\u001b[39mget_input([\u001b[38;5;124m'\u001b[39m\u001b[38;5;124m/home/martin/container/autofs/data/gopro/20230415/*.JPG\u001b[39m\u001b[38;5;124m'\u001b[39m], fps\u001b[38;5;241m=\u001b[39m\u001b[38;5;241m15\u001b[39m,deflicker\u001b[38;5;241m=\u001b[39m\u001b[38;5;241m10\u001b[39m)\n\u001b[0;32m----> 4\u001b[0m \u001b[43moutput\u001b[49m\u001b[38;5;241;43m.\u001b[39;49m\u001b[43mcreate_outputs\u001b[49m\u001b[43m(\u001b[49m\u001b[43msource_input\u001b[49m\u001b[43m,\u001b[49m\u001b[43m \u001b[49m\u001b[38;5;124;43m'\u001b[39;49m\u001b[38;5;124;43m20230415_test_movie\u001b[39;49m\u001b[38;5;124;43m'\u001b[39;49m\u001b[43m,\u001b[49m\u001b[43m \u001b[49m\u001b[43mverbose\u001b[49m\u001b[38;5;241;43m=\u001b[39;49m\u001b[38;5;28;43;01mFalse\u001b[39;49;00m\u001b[43m)\u001b[49m\n",
      "File \u001b[0;32m~/anaconda3/envs/gopro/lib/python3.9/site-packages/time_lapse/output.py:69\u001b[0m, in \u001b[0;36mcreate_outputs\u001b[0;34m(source_input, name, framerate, watermark, verbose, dryrun)\u001b[0m\n\u001b[1;32m     66\u001b[0m         \u001b[38;5;28mprint\u001b[39m(\u001b[38;5;124m'\u001b[39m\u001b[38;5;124mInstall graphviz to generate a pdf of the signal graph\u001b[39m\u001b[38;5;124m'\u001b[39m)\n\u001b[1;32m     68\u001b[0m \u001b[38;5;28;01mif\u001b[39;00m \u001b[38;5;129;01mnot\u001b[39;00m dryrun:\n\u001b[0;32m---> 69\u001b[0m     \u001b[43moutput\u001b[49m\u001b[38;5;241;43m.\u001b[39;49m\u001b[43mglobal_args\u001b[49m\u001b[43m(\u001b[49m\u001b[38;5;124;43m'\u001b[39;49m\u001b[38;5;124;43m-hide_banner\u001b[39;49m\u001b[38;5;124;43m'\u001b[39;49m\u001b[43m)\u001b[49m\u001b[38;5;241;43m.\u001b[39;49m\u001b[43mrun\u001b[49m\u001b[43m(\u001b[49m\u001b[43moverwrite_output\u001b[49m\u001b[38;5;241;43m=\u001b[39;49m\u001b[38;5;28;43;01mTrue\u001b[39;49;00m\u001b[43m)\u001b[49m\n\u001b[1;32m     71\u001b[0m \u001b[38;5;28;01mreturn\u001b[39;00m output\n",
      "File \u001b[0;32m~/anaconda3/envs/gopro/lib/python3.9/site-packages/ffmpeg/_run.py:325\u001b[0m, in \u001b[0;36mrun\u001b[0;34m(stream_spec, cmd, capture_stdout, capture_stderr, input, quiet, overwrite_output)\u001b[0m\n\u001b[1;32m    323\u001b[0m retcode \u001b[38;5;241m=\u001b[39m process\u001b[38;5;241m.\u001b[39mpoll()\n\u001b[1;32m    324\u001b[0m \u001b[38;5;28;01mif\u001b[39;00m retcode:\n\u001b[0;32m--> 325\u001b[0m     \u001b[38;5;28;01mraise\u001b[39;00m Error(\u001b[38;5;124m'\u001b[39m\u001b[38;5;124mffmpeg\u001b[39m\u001b[38;5;124m'\u001b[39m, out, err)\n\u001b[1;32m    326\u001b[0m \u001b[38;5;28;01mreturn\u001b[39;00m out, err\n",
      "\u001b[0;31mError\u001b[0m: ffmpeg error (see stderr output for detail)"
     ]
    }
   ],
   "source": [
    "from time_lapse import output, source\n",
    "\n",
    "source_input = source.get_input(['/home/martin/container/autofs/data/gopro/20230415/*.JPG'], fps=15,deflicker=10)\n",
    "output.create_outputs(source_input, '20230415_test_movie', verbose=False)"
   ]
  },
  {
   "cell_type": "code",
   "execution_count": 31,
   "id": "18d1a9ff-4685-47ed-90b6-c3b5cd3a4796",
   "metadata": {
    "tags": []
   },
   "outputs": [
    {
     "data": {
      "text/plain": [
       "\u001b[0;31mSignature:\u001b[0m \u001b[0msource\u001b[0m\u001b[0;34m.\u001b[0m\u001b[0mget_input\u001b[0m\u001b[0;34m(\u001b[0m\u001b[0mpatterns\u001b[0m\u001b[0;34m,\u001b[0m \u001b[0mfps\u001b[0m\u001b[0;34m,\u001b[0m \u001b[0mdeflicker\u001b[0m\u001b[0;34m)\u001b[0m\u001b[0;34m\u001b[0m\u001b[0;34m\u001b[0m\u001b[0m\n",
       "\u001b[0;31mDocstring:\u001b[0m\n",
       "Find input files and set framerate and deflickering\n",
       "\n",
       ":param patterns: glob pattern(s) to find input frames.\n",
       ":param fps: framerate of the output video.\n",
       ":param deflicker: frame window to use for deflickering,\n",
       "\u001b[0;31mFile:\u001b[0m      ~/anaconda3/envs/gopro/lib/python3.9/site-packages/time_lapse/source.py\n",
       "\u001b[0;31mType:\u001b[0m      function"
      ]
     },
     "metadata": {},
     "output_type": "display_data"
    }
   ],
   "source": [
    "source.get_input?"
   ]
  }
 ],
 "metadata": {
  "kernelspec": {
   "display_name": "Python 3 (ipykernel)",
   "language": "python",
   "name": "python3"
  },
  "language_info": {
   "codemirror_mode": {
    "name": "ipython",
    "version": 3
   },
   "file_extension": ".py",
   "mimetype": "text/x-python",
   "name": "python",
   "nbconvert_exporter": "python",
   "pygments_lexer": "ipython3",
   "version": "3.9.2"
  }
 },
 "nbformat": 4,
 "nbformat_minor": 5
}
